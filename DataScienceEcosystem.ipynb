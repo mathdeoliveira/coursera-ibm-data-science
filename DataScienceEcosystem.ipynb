{
  "nbformat": 4,
  "nbformat_minor": 0,
  "metadata": {
    "colab": {
      "provenance": []
    },
    "kernelspec": {
      "name": "python3",
      "display_name": "Python 3"
    },
    "language_info": {
      "name": "python"
    }
  },
  "cells": [
    {
      "cell_type": "markdown",
      "source": [
        "# Data Science Tools and Ecosystem"
      ],
      "metadata": {
        "id": "JyFe0mg-FCAm"
      }
    },
    {
      "cell_type": "markdown",
      "source": [
        "In this notebook, Data Science Tools and Ecosystem are summarized."
      ],
      "metadata": {
        "id": "O-VMZeI9FiwF"
      }
    },
    {
      "cell_type": "markdown",
      "source": [
        "Some of the popular languages that Data Scientists use are:\n",
        "1. Python\n",
        "2. R\n",
        "3. Julia"
      ],
      "metadata": {
        "id": "bgKi31KvFo8K"
      }
    },
    {
      "cell_type": "markdown",
      "source": [
        "Some of the commonly used libraries used by Data Scientists include:\n",
        "1. Pandas\n",
        "2. Scikit-learn\n",
        "4. Matplotlib"
      ],
      "metadata": {
        "id": "Luo9ooT4FzPL"
      }
    },
    {
      "cell_type": "markdown",
      "source": [
        "Data Science Tools:\n",
        "\n",
        "| Data Science Tools |\n",
        "|--------------------|\n",
        "| R Studio           |\n",
        "| TensorFlow         |\n",
        "| Spark              |\n",
        "\n"
      ],
      "metadata": {
        "id": "hSURNslPG_XN"
      }
    },
    {
      "cell_type": "markdown",
      "source": [
        "### Below are a few examples of evaluating arithmetic expressions in Python\n",
        "\n",
        "$$1 + 1 = 2$$\n",
        "$$2*2 = 4 $$\n",
        "$$4/2 = 2$$"
      ],
      "metadata": {
        "id": "9qJksB0GHhIL"
      }
    },
    {
      "cell_type": "code",
      "source": [
        "# This a simple arithmetic expression to mutiply then add integers\n",
        "(3*4)+5"
      ],
      "metadata": {
        "colab": {
          "base_uri": "https://localhost:8080/"
        },
        "id": "LN12JRsSJQUC",
        "outputId": "eb253135-4598-4fa4-c09b-723888c502ab"
      },
      "execution_count": 2,
      "outputs": [
        {
          "output_type": "execute_result",
          "data": {
            "text/plain": [
              "17"
            ]
          },
          "metadata": {},
          "execution_count": 2
        }
      ]
    },
    {
      "cell_type": "code",
      "source": [
        "# This will convert 200 minutes to hours by diving by 60\n",
        "\n",
        "200/60"
      ],
      "metadata": {
        "colab": {
          "base_uri": "https://localhost:8080/"
        },
        "id": "Sq75ldiDJR0a",
        "outputId": "1e8d9165-69b6-4789-a69d-6c4c4c1cb4fd"
      },
      "execution_count": 3,
      "outputs": [
        {
          "output_type": "execute_result",
          "data": {
            "text/plain": [
              "3.3333333333333335"
            ]
          },
          "metadata": {},
          "execution_count": 3
        }
      ]
    },
    {
      "cell_type": "code",
      "source": [],
      "metadata": {
        "id": "9-E1DK1mJ3W5"
      },
      "execution_count": null,
      "outputs": []
    },
    {
      "cell_type": "markdown",
      "source": [
        "**Objectives:**\n",
        "\n",
        "- Listed 3 popular languages used in Data Science\n",
        "- Listed 3 popular development environment used in Data Science\n",
        "- Listed 3 commonly libraries used in Data Science\n",
        "- Two example of how to use Python in arithmetic expressions\n",
        "- Examples of how to create titles"
      ],
      "metadata": {
        "id": "EVOI09xxKb0T"
      }
    },
    {
      "cell_type": "markdown",
      "source": [
        "## Author:\n",
        "Matheus de Oliveira Alves"
      ],
      "metadata": {
        "id": "SAWUqVWTMnoS"
      }
    },
    {
      "cell_type": "code",
      "source": [],
      "metadata": {
        "id": "edVX_pyOLvUZ"
      },
      "execution_count": null,
      "outputs": []
    }
  ]
}